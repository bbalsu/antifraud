{
  "nbformat": 4,
  "nbformat_minor": 0,
  "metadata": {
    "colab": {
      "provenance": [],
      "gpuType": "T4"
    },
    "kernelspec": {
      "name": "python3",
      "display_name": "Python 3"
    },
    "language_info": {
      "name": "python"
    },
    "accelerator": "GPU"
  },
  "cells": [
    {
      "cell_type": "code",
      "execution_count": null,
      "metadata": {
        "colab": {
          "base_uri": "https://localhost:8080/"
        },
        "id": "QXjqleUU4PUb",
        "outputId": "d0f7fcc5-fe6e-4a18-ae85-d2fbbae77b6c"
      },
      "outputs": [
        {
          "output_type": "stream",
          "name": "stdout",
          "text": [
            "Mounted at /content/drive\n"
          ]
        }
      ],
      "source": [
        "from google.colab import drive\n",
        "\n",
        "drive.mount('/content/drive')"
      ]
    },
    {
      "cell_type": "code",
      "source": [
        "from transformers import AutoTokenizer, AutoModel\n",
        "import torch\n",
        "import tqdm\n",
        "import pandas as pd\n",
        "import numpy as np"
      ],
      "metadata": {
        "id": "tQzxtyNf4iVB"
      },
      "execution_count": null,
      "outputs": []
    },
    {
      "cell_type": "code",
      "source": [
        "import os\n",
        "\n",
        "res0_names = os.listdir('/content/drive/MyDrive/antifraud/dataset/img2text0.csv')\n",
        "res1_names = os.listdir('/content/drive/MyDrive/antifraud/dataset/img2text1.csv')\n",
        "res0_test_names = os.listdir('/content/drive/MyDrive/antifraud/test/img2text0.csv')\n",
        "res1_test_names = os.listdir('/content/drive/MyDrive/antifraud/test/img2text1.csv')"
      ],
      "metadata": {
        "id": "fqjaf4P_EzVO"
      },
      "execution_count": null,
      "outputs": []
    },
    {
      "cell_type": "code",
      "source": [
        "df0 = df0.fillna('')\n",
        "df1 = df1.fillna('')"
      ],
      "metadata": {
        "id": "zeWeRr2vQ-3H"
      },
      "execution_count": null,
      "outputs": []
    },
    {
      "cell_type": "code",
      "source": [
        "item_meta0 = df0"
      ],
      "metadata": {
        "id": "d3x8YHP9JvU6"
      },
      "execution_count": null,
      "outputs": []
    },
    {
      "cell_type": "code",
      "source": [
        "tokenizer = AutoTokenizer.from_pretrained(\"cointegrated/rubert-tiny2\")\n",
        "model = AutoModel.from_pretrained(\"cointegrated/rubert-tiny2\")\n",
        "model.cuda()"
      ],
      "metadata": {
        "id": "5iDbB-mO_Bx-"
      },
      "execution_count": null,
      "outputs": []
    },
    {
      "cell_type": "code",
      "source": [
        "def embed_bert_cls(text, model, tokenizer):\n",
        "    t = tokenizer(text, padding=True, truncation=True, return_tensors='pt')\n",
        "    with torch.no_grad():\n",
        "        model_output = model(**{k: v.to(model.device) for k, v in t.items()})\n",
        "    embeddings = model_output.last_hidden_state[:, 0, :]\n",
        "    embeddings = torch.nn.functional.normalize(embeddings)\n",
        "    return embeddings.cpu().numpy()"
      ],
      "metadata": {
        "id": "ZCHm0uLO_EAI"
      },
      "execution_count": null,
      "outputs": []
    },
    {
      "cell_type": "code",
      "source": [
        "batch_size = 64\n",
        "n = len(item_meta0)\n",
        "content_item_embeddings0 = []"
      ],
      "metadata": {
        "id": "PvD9q9tH_KOl"
      },
      "execution_count": null,
      "outputs": []
    },
    {
      "cell_type": "code",
      "source": [
        "with torch.no_grad():\n",
        "    for i in tqdm.tqdm(range(0, n, batch_size)):\n",
        "        sentences = item_meta0['Text'].iloc[i:min(i + batch_size, n)].values.tolist()\n",
        "        sentence_embeddings = embed_bert_cls(sentences, model, tokenizer)\n",
        "        content_item_embeddings0.append(sentence_embeddings)"
      ],
      "metadata": {
        "id": "kc7X3GUd_NmP"
      },
      "execution_count": null,
      "outputs": []
    },
    {
      "cell_type": "code",
      "source": [
        "item_meta1 = df1"
      ],
      "metadata": {
        "id": "ap5utqjDKQEU"
      },
      "execution_count": null,
      "outputs": []
    },
    {
      "cell_type": "code",
      "source": [
        "batch_size = 64\n",
        "n = len(item_meta1)\n",
        "content_item_embeddings1 = []"
      ],
      "metadata": {
        "id": "G8SR_dezB9dp"
      },
      "execution_count": null,
      "outputs": []
    },
    {
      "cell_type": "code",
      "source": [
        "with torch.no_grad():\n",
        "    for i in tqdm.tqdm(range(0, n, batch_size)):\n",
        "        sentences = item_meta1['Text'].iloc[i:min(i + batch_size, n)].values.tolist()\n",
        "        sentence_embeddings = embed_bert_cls(sentences, model, tokenizer)\n",
        "        content_item_embeddings1.append(sentence_embeddings)"
      ],
      "metadata": {
        "id": "E-a-0d1sCnUa"
      },
      "execution_count": null,
      "outputs": []
    },
    {
      "cell_type": "code",
      "source": [
        "embeddings0 = []\n",
        "for batch in content_item_embeddings0:\n",
        "  for elem in batch:\n",
        "    embeddings0.append(elem)"
      ],
      "metadata": {
        "id": "n9i0hJNyEVxA"
      },
      "execution_count": null,
      "outputs": []
    },
    {
      "cell_type": "code",
      "source": [
        "embeddings1 = []\n",
        "for batch in content_item_embeddings1:\n",
        "  for elem in batch:\n",
        "    embeddings1.append(elem)"
      ],
      "metadata": {
        "id": "n6GuDfgqE8wr"
      },
      "execution_count": null,
      "outputs": []
    },
    {
      "cell_type": "code",
      "source": [
        "df0['embeddings'] = embeddings0"
      ],
      "metadata": {
        "id": "JMEiB1fcFFZi"
      },
      "execution_count": null,
      "outputs": []
    },
    {
      "cell_type": "code",
      "source": [
        "df1['embeddings'] = embeddings1"
      ],
      "metadata": {
        "id": "pCrQ21Z_FTJu"
      },
      "execution_count": null,
      "outputs": []
    },
    {
      "cell_type": "code",
      "source": [
        "for i in range(312):\n",
        "  df0[str(i)] = df0.embeddings.apply(lambda x: x[i]);"
      ],
      "metadata": {
        "collapsed": true,
        "id": "bHKVkX6pLIL9"
      },
      "execution_count": null,
      "outputs": []
    },
    {
      "cell_type": "code",
      "source": [
        "for i in range(312):\n",
        "  df1[str(i)] = df1.embeddings.apply(lambda x: x[i]);"
      ],
      "metadata": {
        "collapsed": true,
        "id": "T9xixPtjL7fl"
      },
      "execution_count": null,
      "outputs": []
    },
    {
      "cell_type": "code",
      "source": [
        "df0_emb = df0.drop(columns=['embeddings'])\n",
        "df1_emb = df1.drop(columns=['embeddings'])"
      ],
      "metadata": {
        "id": "3TXkUT6GM0uM"
      },
      "execution_count": null,
      "outputs": []
    },
    {
      "cell_type": "code",
      "source": [
        "df0_emb.to_csv('/content/drive/MyDrive/antifraud/dataset/df0_with_embeddings.csv', index=False)\n",
        "df1_emb.to_csv('/content/drive/MyDrive/antifraud/dataset/df1_with_embeddings.csv', index=False)"
      ],
      "metadata": {
        "id": "5XXVHE7kNBnh"
      },
      "execution_count": null,
      "outputs": []
    },
    {
      "cell_type": "code",
      "source": [
        "df0_test = df0_test.fillna('')\n",
        "df1_test = df1_test.fillna('')"
      ],
      "metadata": {
        "id": "jARPCeEaTY-L"
      },
      "execution_count": null,
      "outputs": []
    },
    {
      "cell_type": "code",
      "source": [
        "item_test0 = df0_test"
      ],
      "metadata": {
        "id": "ybdxf62pS37B"
      },
      "execution_count": null,
      "outputs": []
    },
    {
      "cell_type": "code",
      "source": [
        "batch_size = 64\n",
        "n = len(item_test0)\n",
        "content_test_embeddings0 = []"
      ],
      "metadata": {
        "id": "qX_nBH7IOdxA",
        "collapsed": true
      },
      "execution_count": null,
      "outputs": []
    },
    {
      "cell_type": "code",
      "source": [
        "with torch.no_grad():\n",
        "    for i in tqdm.tqdm(range(0, n, batch_size)):\n",
        "        sentences = item_test0['Text'].iloc[i:min(i + batch_size, n)].values.tolist()\n",
        "        sentence_embeddings = embed_bert_cls(sentences, model, tokenizer)\n",
        "        content_test_embeddings0.append(sentence_embeddings)"
      ],
      "metadata": {
        "id": "2ofTYLL5Se5K"
      },
      "execution_count": null,
      "outputs": []
    },
    {
      "cell_type": "code",
      "source": [
        "item_test1 = df1_test"
      ],
      "metadata": {
        "id": "PnS0fB_6TF8k"
      },
      "execution_count": null,
      "outputs": []
    },
    {
      "cell_type": "code",
      "source": [
        "batch_size = 64\n",
        "n = len(item_test1)\n",
        "content_test_embeddings1 = []"
      ],
      "metadata": {
        "id": "f81h-pzPTHP6"
      },
      "execution_count": null,
      "outputs": []
    },
    {
      "cell_type": "code",
      "source": [
        "with torch.no_grad():\n",
        "    for i in tqdm.tqdm(range(0, n, batch_size)):\n",
        "        sentences = item_test1['Text'].iloc[i:min(i + batch_size, n)].values.tolist()\n",
        "        sentence_embeddings = embed_bert_cls(sentences, model, tokenizer)\n",
        "        content_test_embeddings1.append(sentence_embeddings)"
      ],
      "metadata": {
        "id": "y8iW-_DyTHr2"
      },
      "execution_count": null,
      "outputs": []
    },
    {
      "cell_type": "code",
      "source": [
        "test_embeddings0 = []\n",
        "for batch in content_test_embeddings0:\n",
        "  for elem in batch:\n",
        "    test_embeddings0.append(elem)"
      ],
      "metadata": {
        "id": "Xw2bTAgnTno2"
      },
      "execution_count": null,
      "outputs": []
    },
    {
      "cell_type": "code",
      "source": [
        "test_embeddings1 = []\n",
        "for batch in content_test_embeddings1:\n",
        "  for elem in batch:\n",
        "    test_embeddings1.append(elem)"
      ],
      "metadata": {
        "id": "4vDSVxIrTjZs"
      },
      "execution_count": null,
      "outputs": []
    },
    {
      "cell_type": "code",
      "source": [
        "df0_test['embeddings'] = test_embeddings0\n",
        "df1_test['embeddings'] = test_embeddings1"
      ],
      "metadata": {
        "id": "F8E9aEDiUEyp"
      },
      "execution_count": null,
      "outputs": []
    },
    {
      "cell_type": "code",
      "source": [
        "for i in range(312):\n",
        "  df0_test[str(i)] = df0_test.embeddings.apply(lambda x: x[i])\n",
        "  df1_test[str(i)] = df1_test.embeddings.apply(lambda x: x[i])"
      ],
      "metadata": {
        "collapsed": true,
        "id": "AuTqZV6QUbjm"
      },
      "execution_count": null,
      "outputs": []
    },
    {
      "cell_type": "code",
      "source": [
        "df0_emb_test = df0_test.drop(columns=['embeddings'])\n",
        "df1_emb_test = df1_test.drop(columns=['embeddings'])"
      ],
      "metadata": {
        "id": "RLhBs0BUUuYQ"
      },
      "execution_count": null,
      "outputs": []
    },
    {
      "cell_type": "code",
      "source": [
        "df0_emb_test.to_csv('/content/drive/MyDrive/antifraud/test/df0_test_with_embeddings.csv', index=False)\n",
        "df1_emb_test.to_csv('/content/drive/MyDrive/antifraud/test/df1_test_with_embeddings.csv', index=False)"
      ],
      "metadata": {
        "id": "4Ts0DMlNU5Of"
      },
      "execution_count": null,
      "outputs": []
    }
  ]
}