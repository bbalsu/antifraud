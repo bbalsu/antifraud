{
  "cells": [
    {
      "cell_type": "code",
      "source": [
        "import os\n",
        "from tqdm import tqdm\n",
        "import pandas as pd"
      ],
      "metadata": {
        "id": "wOpNxmCMS3J9"
      },
      "execution_count": null,
      "outputs": []
    },
    {
      "cell_type": "code",
      "source": [
        "from google.colab import drive\n",
        "drive.mount('/content/drive')"
      ],
      "metadata": {
        "id": "pgzwMp4WRs3N"
      },
      "execution_count": null,
      "outputs": []
    },
    {
      "cell_type": "code",
      "execution_count": null,
      "metadata": {
        "collapsed": true,
        "id": "JMSGQmGHqvxC"
      },
      "outputs": [],
      "source": [
        "# download file\n",
        "os.mkdir(\"/content/drive/MyDrive/anti-fraud\")\n",
        "\n",
        "!curl https://ml.gan4x4.ru/wb/text/25_80000/25_80000_student.zip > /content/drive/MyDrive/anti-fraud/dataset.zip\n",
        "!unzip '/content/drive/MyDrive/anti-fraud/dataset.zip' -d /content/drive/MyDrive/anti-fraud/dataset\n",
        "dir = \"/content/drive/MyDrive/anti-fraud/\"\n",
        "\n",
        "photos0 = os.listdir(dir + \"0\")\n",
        "photos1 = os.listdir(dir + \"1\")"
      ]
    },
    {
      "cell_type": "code",
      "execution_count": null,
      "metadata": {
        "id": "Y9XE7mzBfCFT"
      },
      "outputs": [],
      "source": [
        "!pip install easyocr\n",
        "\n",
        "import easyocr\n",
        "reader = easyocr.Reader(['ru', 'en'], gpu=True)"
      ]
    },
    {
      "cell_type": "code",
      "execution_count": null,
      "metadata": {
        "id": "ZHoxtdJ_s545"
      },
      "outputs": [],
      "source": [
        "# text extract\n",
        "import pandas as pd\n",
        "\n",
        "img2text0 = dict()\n",
        "img2text1 = dict()\n",
        "\n",
        "for i, elem in enumerate(photos0):\n",
        "  result = reader.readtext(dir + '0/' + elem)\n",
        "  rare_text = [result[i][-2] for i in range(len(result))]\n",
        "  text = str.lower(\" \".join(rare_text))\n",
        "  img2text0[elem] = text\n",
        "\n",
        "for i, elem in enumerate(photos1):\n",
        "  result = reader.readtext(dir + '1/' + elem)\n",
        "  rare_text = [result[i][-2] for i in range(len(result))]\n",
        "  text = str.lower(\" \".join(rare_text))\n",
        "  img2text1[elem] = text\n",
        "\n",
        "pd.DataFrame(img2text0.items(), columns=['Path', 'Text']).to_csv(dir + \"img2text0.csv\")\n",
        "pd.DataFrame(img2text1.items(), columns=['Path', 'Text']).to_csv(dir + \"img2text1.csv\")"
      ]
    }
  ],
  "metadata": {
    "accelerator": "GPU",
    "colab": {
      "gpuType": "T4",
      "provenance": []
    },
    "kernelspec": {
      "display_name": "Python 3",
      "name": "python3"
    },
    "language_info": {
      "name": "python"
    }
  },
  "nbformat": 4,
  "nbformat_minor": 0
}