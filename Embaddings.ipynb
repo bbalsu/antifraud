{
  "cells": [
    {
      "cell_type": "code",
      "source": [
        "import pandas as pd\n",
        "from catboost import CatBoostClassifier\n",
        "from sklearn.model_selection import train_test_split"
      ],
      "metadata": {
        "id": "FYc31tR7bxbE"
      },
      "execution_count": null,
      "outputs": []
    },
    {
      "cell_type": "code",
      "execution_count": null,
      "metadata": {
        "id": "IG8OF1zuJ1r7"
      },
      "outputs": [],
      "source": [
        "!pip install catboost"
      ]
    },
    {
      "cell_type": "code",
      "execution_count": null,
      "metadata": {
        "id": "rGioF-OtIvtd"
      },
      "outputs": [],
      "source": [
        "# data preparation\n",
        "df_0 = pd.read_csv(dir + 'df0_with_embeddings.csv')\n",
        "df_1 = pd.read_csv(dir + 'df1_with_embeddings.csv')\n",
        "\n",
        "df_0[\"Ans\"] = [0 for i in range(len(df_0))]\n",
        "df_1[\"Ans\"] = [1 for i in range(len(df_1))]\n",
        "\n",
        "data = pd.concat([df_0, df_1], ignore_index=True)\n",
        "X = data[[str(i) for i in range(312)]]\n",
        "y = data[\"Ans\"]\n",
        "\n",
        "X_train, X_test, y_train, y_test = train_test_split(X, y, test_size=0.2, random_state=42)"
      ]
    },
    {
      "cell_type": "code",
      "execution_count": null,
      "metadata": {
        "id": "7E5l4_nnMuzC"
      },
      "outputs": [],
      "source": [
        "# model learning\n",
        "model = CatBoostClassifier(depth=7, eval_metric=\"Logloss\")\n",
        "model.fit(X_train, y_train, eval_set=(X_test, y_test))\n",
        "score = model.score(X_test, y_test)"
      ]
    },
    {
      "cell_type": "code",
      "execution_count": null,
      "metadata": {
        "id": "XLKOxKrdXKgF",
        "colab": {
          "base_uri": "https://localhost:8080/"
        },
        "outputId": "8342a0c7-aa37-4c5f-e79c-18729d1b81d1"
      },
      "outputs": [
        {
          "output_type": "execute_result",
          "data": {
            "text/plain": [
              "0.9635714285714285"
            ]
          },
          "metadata": {},
          "execution_count": 9
        }
      ],
      "source": [
        "score"
      ]
    }
  ],
  "metadata": {
    "colab": {
      "gpuType": "T4",
      "provenance": []
    },
    "kernelspec": {
      "display_name": "Python 3",
      "name": "python3"
    },
    "language_info": {
      "name": "python"
    }
  },
  "nbformat": 4,
  "nbformat_minor": 0
}