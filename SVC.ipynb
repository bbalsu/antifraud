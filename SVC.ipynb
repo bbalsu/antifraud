{
  "cells": [
    {
      "cell_type": "code",
      "execution_count": null,
      "metadata": {
        "id": "tUK2nsf4Fwma"
      },
      "outputs": [],
      "source": [
        "import pandas as pd\n",
        "import numpy as np"
      ]
    },
    {
      "cell_type": "code",
      "execution_count": null,
      "metadata": {
        "colab": {
          "base_uri": "https://localhost:8080/"
        },
        "id": "wYAKbn3TF8nt",
        "outputId": "7e794cbf-0bfa-4e04-dddd-f6d9bb0d7cd8"
      },
      "outputs": [
        {
          "output_type": "stream",
          "name": "stdout",
          "text": [
            "Mounted at /content/drive\n"
          ]
        }
      ],
      "source": [
        "from google.colab import drive\n",
        "\n",
        "drive.mount('/content/drive')"
      ]
    },
    {
      "cell_type": "code",
      "execution_count": null,
      "metadata": {
        "id": "DRLjugPyF-wE"
      },
      "outputs": [],
      "source": [
        "df0 = pd.read_csv('/content/drive/MyDrive/antifraud/dataset/df0_with_embeddings.csv')\n",
        "df1 = pd.read_csv('/content/drive/MyDrive/antifraud/dataset/df1_with_embeddings.csv')\n",
        "df0_test = pd.read_csv('/content/drive/MyDrive/antifraud/test/df0_with_embeddings.csv')\n",
        "df1_test = pd.read_csv('/content/drive/MyDrive/antifraud/test/df1_with_embeddings.csv')"
      ]
    },
    {
      "cell_type": "code",
      "execution_count": null,
      "metadata": {
        "id": "mDaYnV5xKeqV"
      },
      "outputs": [],
      "source": [
        "df1.dropna(inplace=True)\n",
        "df1_test.dropna(inplace=True)"
      ]
    },
    {
      "cell_type": "code",
      "execution_count": null,
      "metadata": {
        "id": "sPDXhgt2GEov"
      },
      "outputs": [],
      "source": [
        "df0 = df0.reset_index()\n",
        "df1 = df1.reset_index()\n",
        "df0_test = df0_test.reset_index()\n",
        "df1_test = df1_test.reset_index()\n",
        "\n",
        "\n",
        "df0['Target'] = pd.Series([0]*df0.shape[0])\n",
        "df1['Target'] = pd.Series([1]*df1.shape[0])\n",
        "df0_test['Target'] = pd.Series([0]*df0_test.shape[0])\n",
        "df1_test['Target'] = pd.Series([1]*df1_test.shape[0])"
      ]
    },
    {
      "cell_type": "code",
      "execution_count": null,
      "metadata": {
        "id": "QDa1lb30Hnd2"
      },
      "outputs": [],
      "source": [
        "df = pd.concat([df0, df1], ignore_index=True)\n",
        "df = df.sample(frac=1)"
      ]
    },
    {
      "cell_type": "code",
      "execution_count": null,
      "metadata": {
        "id": "fo90CFuSTFfg"
      },
      "outputs": [],
      "source": [
        "df1_test['Target'] = pd.Series([1]*df1_test.shape[0])"
      ]
    },
    {
      "cell_type": "code",
      "execution_count": null,
      "metadata": {
        "id": "MuGCiBHMII-C"
      },
      "outputs": [],
      "source": [
        "df_test = pd.concat([df0_test, df1_test], ignore_index=True)\n",
        "df_test = df_test.sample(frac=1)"
      ]
    },
    {
      "cell_type": "code",
      "source": [
        "from sklearn import svm"
      ],
      "metadata": {
        "id": "GQePT6nVFGTR"
      },
      "execution_count": null,
      "outputs": []
    },
    {
      "cell_type": "code",
      "source": [
        "from sklearn.model_selection import cross_val_score\n",
        "clf = svm.SVC()\n",
        "scores_acc = cross_val_score(clf, df.drop(columns=['Path', 'Text', 'Target', 'index']), df.Target, cv=5, scoring=\"accuracy\")\n",
        "print(scores_acc, scores_acc.mean().round(3))"
      ],
      "metadata": {
        "colab": {
          "base_uri": "https://localhost:8080/"
        },
        "id": "eDPoSHqJEr8c",
        "outputId": "366d3de1-c5f5-4294-fd4b-64f029884e0b"
      },
      "execution_count": null,
      "outputs": [
        {
          "output_type": "stream",
          "name": "stdout",
          "text": [
            "[0.97398217 0.96976632 0.97506325 0.97217203 0.97181063] 0.973\n"
          ]
        }
      ]
    },
    {
      "cell_type": "code",
      "source": [
        "scores_acc = cross_val_score(clf, df.drop(columns=['Path', 'Text', 'Target', 'index']), df.Target, cv=5, scoring=\"precision\")\n",
        "print(scores_acc, scores_acc.mean().round(3))"
      ],
      "metadata": {
        "colab": {
          "base_uri": "https://localhost:8080/"
        },
        "id": "toWZK0EkEuPp",
        "outputId": "2165552f-d02f-433e-ad0e-d44ef356c374"
      },
      "execution_count": null,
      "outputs": [
        {
          "output_type": "stream",
          "name": "stdout",
          "text": [
            "[0.99010569 0.98759585 0.99012567 0.98918919 0.98984428] 0.989\n"
          ]
        }
      ]
    },
    {
      "cell_type": "code",
      "source": [
        "scores_acc = cross_val_score(clf, df.drop(columns=['Path', 'Text', 'Target', 'index']), df.Target, cv=5, scoring=\"recall\")\n",
        "print(scores_acc, scores_acc.mean().round(3))"
      ],
      "metadata": {
        "colab": {
          "base_uri": "https://localhost:8080/"
        },
        "id": "lMFqVEj2E4kY",
        "outputId": "415ea17c-d784-412b-bff3-d2e80c07c04a"
      },
      "execution_count": null,
      "outputs": [
        {
          "output_type": "stream",
          "name": "stdout",
          "text": [
            "[0.96240437 0.95715847 0.96437158 0.96       0.95868852] 0.961\n"
          ]
        }
      ]
    }
  ],
  "metadata": {
    "colab": {
      "provenance": []
    },
    "kernelspec": {
      "display_name": "Python 3",
      "name": "python3"
    },
    "language_info": {
      "name": "python"
    }
  },
  "nbformat": 4,
  "nbformat_minor": 0
}